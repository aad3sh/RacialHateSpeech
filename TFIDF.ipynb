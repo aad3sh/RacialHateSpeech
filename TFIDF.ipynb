{
 "cells": [
  {
   "cell_type": "markdown",
   "id": "d45bc0df",
   "metadata": {},
   "source": [
    "## TF-IDF Vectorizer Model Comparison\n",
    "\n",
    "HOW TO RUN - \n",
    "1. Select Cell from the list of menu.\n",
    "2. Run All"
   ]
  },
  {
   "cell_type": "markdown",
   "id": "09e74711",
   "metadata": {},
   "source": [
    "#### Importing the required libraries for data cleaning"
   ]
  },
  {
   "cell_type": "code",
   "execution_count": 1,
   "id": "f1afc682",
   "metadata": {},
   "outputs": [
    {
     "name": "stderr",
     "output_type": "stream",
     "text": [
      "[nltk_data] Downloading package stopwords to\n",
      "[nltk_data]     /Users/Aadesh/nltk_data...\n",
      "[nltk_data]   Package stopwords is already up-to-date!\n"
     ]
    },
    {
     "data": {
      "text/html": [
       "<div>\n",
       "<style scoped>\n",
       "    .dataframe tbody tr th:only-of-type {\n",
       "        vertical-align: middle;\n",
       "    }\n",
       "\n",
       "    .dataframe tbody tr th {\n",
       "        vertical-align: top;\n",
       "    }\n",
       "\n",
       "    .dataframe thead th {\n",
       "        text-align: right;\n",
       "    }\n",
       "</style>\n",
       "<table border=\"1\" class=\"dataframe\">\n",
       "  <thead>\n",
       "    <tr style=\"text-align: right;\">\n",
       "      <th></th>\n",
       "      <th>Unnamed: 0</th>\n",
       "      <th>count</th>\n",
       "      <th>hate_speech</th>\n",
       "      <th>offensive_language</th>\n",
       "      <th>neither</th>\n",
       "      <th>class</th>\n",
       "      <th>tweet</th>\n",
       "    </tr>\n",
       "  </thead>\n",
       "  <tbody>\n",
       "    <tr>\n",
       "      <th>0</th>\n",
       "      <td>0</td>\n",
       "      <td>3</td>\n",
       "      <td>0</td>\n",
       "      <td>0</td>\n",
       "      <td>3</td>\n",
       "      <td>2</td>\n",
       "      <td>!!! RT @mayasolovely: As a woman you shouldn't...</td>\n",
       "    </tr>\n",
       "    <tr>\n",
       "      <th>1</th>\n",
       "      <td>1</td>\n",
       "      <td>3</td>\n",
       "      <td>0</td>\n",
       "      <td>3</td>\n",
       "      <td>0</td>\n",
       "      <td>1</td>\n",
       "      <td>!!!!! RT @mleew17: boy dats cold...tyga dwn ba...</td>\n",
       "    </tr>\n",
       "    <tr>\n",
       "      <th>2</th>\n",
       "      <td>2</td>\n",
       "      <td>3</td>\n",
       "      <td>0</td>\n",
       "      <td>3</td>\n",
       "      <td>0</td>\n",
       "      <td>1</td>\n",
       "      <td>!!!!!!! RT @UrKindOfBrand Dawg!!!! RT @80sbaby...</td>\n",
       "    </tr>\n",
       "    <tr>\n",
       "      <th>3</th>\n",
       "      <td>3</td>\n",
       "      <td>3</td>\n",
       "      <td>0</td>\n",
       "      <td>2</td>\n",
       "      <td>1</td>\n",
       "      <td>1</td>\n",
       "      <td>!!!!!!!!! RT @C_G_Anderson: @viva_based she lo...</td>\n",
       "    </tr>\n",
       "    <tr>\n",
       "      <th>4</th>\n",
       "      <td>4</td>\n",
       "      <td>6</td>\n",
       "      <td>0</td>\n",
       "      <td>6</td>\n",
       "      <td>0</td>\n",
       "      <td>1</td>\n",
       "      <td>!!!!!!!!!!!!! RT @ShenikaRoberts: The shit you...</td>\n",
       "    </tr>\n",
       "  </tbody>\n",
       "</table>\n",
       "</div>"
      ],
      "text/plain": [
       "   Unnamed: 0  count  hate_speech  offensive_language  neither  class  \\\n",
       "0           0      3            0                   0        3      2   \n",
       "1           1      3            0                   3        0      1   \n",
       "2           2      3            0                   3        0      1   \n",
       "3           3      3            0                   2        1      1   \n",
       "4           4      6            0                   6        0      1   \n",
       "\n",
       "                                               tweet  \n",
       "0  !!! RT @mayasolovely: As a woman you shouldn't...  \n",
       "1  !!!!! RT @mleew17: boy dats cold...tyga dwn ba...  \n",
       "2  !!!!!!! RT @UrKindOfBrand Dawg!!!! RT @80sbaby...  \n",
       "3  !!!!!!!!! RT @C_G_Anderson: @viva_based she lo...  \n",
       "4  !!!!!!!!!!!!! RT @ShenikaRoberts: The shit you...  "
      ]
     },
     "execution_count": 1,
     "metadata": {},
     "output_type": "execute_result"
    }
   ],
   "source": [
    "import numpy as np \n",
    "import pandas as pd \n",
    "import matplotlib.pyplot as plt\n",
    "import re\n",
    "import nltk\n",
    "nltk.download('stopwords')\n",
    "from nltk.corpus import stopwords\n",
    "from nltk.stem.porter import PorterStemmer\n",
    "from sklearn.model_selection import train_test_split\n",
    "from sklearn.metrics import confusion_matrix, accuracy_score\n",
    "\n",
    "dataset = pd.read_csv('labeled_data.csv')\n",
    "dataset.head()"
   ]
  },
  {
   "cell_type": "code",
   "execution_count": 2,
   "id": "6a69f8c4",
   "metadata": {},
   "outputs": [
    {
     "name": "stdout",
     "output_type": "stream",
     "text": [
      "<class 'pandas.core.frame.DataFrame'>\n",
      "RangeIndex: 24783 entries, 0 to 24782\n",
      "Data columns (total 7 columns):\n",
      " #   Column              Non-Null Count  Dtype \n",
      "---  ------              --------------  ----- \n",
      " 0   Unnamed: 0          24783 non-null  int64 \n",
      " 1   count               24783 non-null  int64 \n",
      " 2   hate_speech         24783 non-null  int64 \n",
      " 3   offensive_language  24783 non-null  int64 \n",
      " 4   neither             24783 non-null  int64 \n",
      " 5   class               24783 non-null  int64 \n",
      " 6   tweet               24783 non-null  object\n",
      "dtypes: int64(6), object(1)\n",
      "memory usage: 1.3+ MB\n"
     ]
    }
   ],
   "source": [
    "dataset.info()"
   ]
  },
  {
   "cell_type": "code",
   "execution_count": 3,
   "id": "73b7879f",
   "metadata": {},
   "outputs": [],
   "source": [
    "dt_trasformed = dataset[['class', 'tweet']]\n",
    "y = np.array(dt_trasformed['class'])"
   ]
  },
  {
   "cell_type": "code",
   "execution_count": 4,
   "id": "cc955667",
   "metadata": {},
   "outputs": [],
   "source": [
    "y = np.array(y)"
   ]
  },
  {
   "cell_type": "markdown",
   "id": "c7cc7ca8",
   "metadata": {},
   "source": [
    "### Cleaning the data\n",
    "\n",
    "#### We not remove all rubbish information from the data so that it does not contribute or skew model training. This is data-preprocessing and it is an important part of cleaning and preparing the data before training the models"
   ]
  },
  {
   "cell_type": "code",
   "execution_count": 5,
   "id": "a2b8023f",
   "metadata": {},
   "outputs": [],
   "source": [
    "corpus = []\n",
    "for i in range(0, len(y)):\n",
    "  text = re.sub('[^a-zA-Z]', ' ', dt_trasformed['tweet'][i])\n",
    "  text = text.lower()\n",
    "  text = re.sub(r'\\$\\w*', '', text) \n",
    "  text = re.sub(r'https?:\\/\\/.*[\\r\\n]*', '', text) \n",
    "  text = re.sub(r'#', '', text)\n",
    "  text = text.split()\n",
    "  ps = PorterStemmer()\n",
    "  all_stopwords = stopwords.words('english')\n",
    "  all_stopwords.remove('not')\n",
    "  text = [ps.stem(word) for word in text if not word in set(all_stopwords)]\n",
    "  text = ' '.join(text)\n",
    "  corpus.append(text)"
   ]
  },
  {
   "cell_type": "markdown",
   "id": "aa341722",
   "metadata": {},
   "source": [
    "#### TF-IDF Vectorizer is called which converts text data into vectors for the ML models. "
   ]
  },
  {
   "cell_type": "code",
   "execution_count": 6,
   "id": "bf766ae9",
   "metadata": {},
   "outputs": [],
   "source": [
    "from sklearn.feature_extraction.text import TfidfVectorizer\n",
    "tfidf_transformer = TfidfVectorizer(max_features = 2000)\n",
    "X = tfidf_transformer.fit_transform(corpus).toarray()"
   ]
  },
  {
   "cell_type": "markdown",
   "id": "6df3684e",
   "metadata": {},
   "source": [
    "#### Importing essential ML models"
   ]
  },
  {
   "cell_type": "code",
   "execution_count": 7,
   "id": "df189ee2",
   "metadata": {},
   "outputs": [],
   "source": [
    "from sklearn.ensemble import RandomForestClassifier\n",
    "from sklearn.linear_model import LogisticRegression\n",
    "from sklearn.neighbors import KNeighborsClassifier\n",
    "from sklearn.tree import DecisionTreeClassifier\n",
    "from sklearn.naive_bayes import GaussianNB\n",
    "from sklearn.svm import SVC, LinearSVC\n",
    "from sklearn.model_selection import cross_val_score, cross_val_predict\n",
    "from sklearn.metrics import classification_report"
   ]
  },
  {
   "cell_type": "code",
   "execution_count": 8,
   "id": "fc95afa1",
   "metadata": {},
   "outputs": [],
   "source": [
    "models = [RandomForestClassifier(n_estimators = 7, criterion = 'entropy'),\n",
    "          LogisticRegression(),\n",
    "          KNeighborsClassifier(n_neighbors = 5, p = 2),\n",
    "          DecisionTreeClassifier(criterion = 'entropy'),\n",
    "          GaussianNB(),\n",
    "          LinearSVC(C=0.01, loss='squared_hinge')]"
   ]
  },
  {
   "cell_type": "code",
   "execution_count": 9,
   "id": "2a9b6269",
   "metadata": {},
   "outputs": [],
   "source": [
    "classifiers=['Random Forest Classifier',\n",
    "             'Logistic Regression',\n",
    "             'KNN Classifier',\n",
    "             'Decision Tree Classifier',\n",
    "             'Gaussian Naive Bayes',\n",
    "             'Linear Support Vector Classifier']"
   ]
  },
  {
   "cell_type": "code",
   "execution_count": 10,
   "id": "8f42c910",
   "metadata": {},
   "outputs": [],
   "source": [
    "def getData(model_type, X, y):\n",
    "    result = []\n",
    "    scores1 = cross_val_score(model_type, X, y, cv=10, scoring='precision_weighted')\n",
    "    print(\"Precision(avg): %0.3f (+/- %0.3f)\" % (scores1.mean(), scores1.std() * 2))\n",
    "    result.append(scores1.mean())\n",
    "    scores2 = cross_val_score(model_type, X, y, cv=10, scoring='recall_weighted')\n",
    "    print(\"Recall(avg): %0.3f (+/- %0.3f)\" % (scores2.mean(), scores2.std() * 2))\n",
    "    result.append(scores2.mean())\n",
    "    scores3 = cross_val_score(model_type, X, y, cv=10, scoring='f1_weighted')\n",
    "    print(\"F1-score(avg): %0.3f (+/- %0.3f)\" % (scores3.mean(), scores3.std() * 2))\n",
    "    result.append(scores3.mean())\n",
    "    print(\"\\n\")\n",
    "    return result"
   ]
  },
  {
   "cell_type": "code",
   "execution_count": 11,
   "id": "b9afbc00",
   "metadata": {},
   "outputs": [],
   "source": [
    "X_train, X_test, y_train, y_test = train_test_split(X, y, test_size = 0.20, random_state = 0)"
   ]
  },
  {
   "cell_type": "code",
   "execution_count": 12,
   "id": "470efc6e",
   "metadata": {},
   "outputs": [],
   "source": [
    "import warnings\n",
    "warnings.filterwarnings(\"ignore\")"
   ]
  },
  {
   "cell_type": "markdown",
   "id": "0b802383",
   "metadata": {},
   "source": [
    "### Models Comparison - PART 1"
   ]
  },
  {
   "cell_type": "code",
   "execution_count": 13,
   "id": "841f9658",
   "metadata": {},
   "outputs": [
    {
     "name": "stdout",
     "output_type": "stream",
     "text": [
      "Classifier used - > Random Forest Classifier\n",
      "              precision    recall  f1-score   support\n",
      "\n",
      "           0       0.43      0.17      0.25       279\n",
      "           1       0.93      0.96      0.94      3852\n",
      "           2       0.83      0.87      0.85       826\n",
      "\n",
      "    accuracy                           0.90      4957\n",
      "   macro avg       0.73      0.67      0.68      4957\n",
      "weighted avg       0.88      0.90      0.89      4957\n",
      "\n",
      "Classifier used - > Logistic Regression\n",
      "              precision    recall  f1-score   support\n",
      "\n",
      "           0       0.55      0.17      0.26       279\n",
      "           1       0.92      0.97      0.94      3852\n",
      "           2       0.85      0.84      0.85       826\n",
      "\n",
      "    accuracy                           0.90      4957\n",
      "   macro avg       0.77      0.66      0.68      4957\n",
      "weighted avg       0.89      0.90      0.89      4957\n",
      "\n",
      "Classifier used - > KNN Classifier\n",
      "              precision    recall  f1-score   support\n",
      "\n",
      "           0       0.19      0.23      0.21       279\n",
      "           1       0.87      0.67      0.75      3852\n",
      "           2       0.33      0.66      0.43       826\n",
      "\n",
      "    accuracy                           0.64      4957\n",
      "   macro avg       0.46      0.52      0.47      4957\n",
      "weighted avg       0.74      0.64      0.67      4957\n",
      "\n",
      "Classifier used - > Decision Tree Classifier\n",
      "              precision    recall  f1-score   support\n",
      "\n",
      "           0       0.27      0.26      0.26       279\n",
      "           1       0.93      0.93      0.93      3852\n",
      "           2       0.84      0.86      0.85       826\n",
      "\n",
      "    accuracy                           0.88      4957\n",
      "   macro avg       0.68      0.68      0.68      4957\n",
      "weighted avg       0.88      0.88      0.88      4957\n",
      "\n",
      "Classifier used - > Gaussian Naive Bayes\n",
      "              precision    recall  f1-score   support\n",
      "\n",
      "           0       0.07      0.68      0.12       279\n",
      "           1       0.88      0.22      0.36      3852\n",
      "           2       0.43      0.57      0.49       826\n",
      "\n",
      "    accuracy                           0.31      4957\n",
      "   macro avg       0.46      0.49      0.32      4957\n",
      "weighted avg       0.76      0.31      0.36      4957\n",
      "\n",
      "Classifier used - > Linear Support Vector Classifier\n",
      "              precision    recall  f1-score   support\n",
      "\n",
      "           0       0.33      0.01      0.01       279\n",
      "           1       0.84      0.99      0.91      3852\n",
      "           2       0.87      0.43      0.58       826\n",
      "\n",
      "    accuracy                           0.84      4957\n",
      "   macro avg       0.68      0.48      0.50      4957\n",
      "weighted avg       0.81      0.84      0.80      4957\n",
      "\n"
     ]
    }
   ],
   "source": [
    "classfier_scores=[]\n",
    "for i in range(len(models)):\n",
    "    print(\"Classifier used - > {}\".format(classifiers[i]))\n",
    "    classifier = models[i]\n",
    "    classifier.fit(X_train,y_train)\n",
    "    y_pred_svc = classifier.predict(X_test)\n",
    "    print(classification_report(y_test, y_pred_svc,zero_division=1))"
   ]
  },
  {
   "cell_type": "markdown",
   "id": "63df07a6",
   "metadata": {},
   "source": [
    "### Models Comparison - PART 2"
   ]
  },
  {
   "cell_type": "code",
   "execution_count": 14,
   "id": "73b781a8",
   "metadata": {},
   "outputs": [
    {
     "name": "stdout",
     "output_type": "stream",
     "text": [
      "Classifier used - > Random Forest Classifier\n",
      "Precision(avg): 0.882 (+/- 0.022)\n",
      "Recall(avg): 0.895 (+/- 0.027)\n",
      "F1-score(avg): 0.883 (+/- 0.021)\n",
      "\n",
      "\n",
      "Classifier used - > Logistic Regression\n",
      "Precision(avg): 0.893 (+/- 0.026)\n",
      "Recall(avg): 0.902 (+/- 0.029)\n",
      "F1-score(avg): 0.890 (+/- 0.020)\n",
      "\n",
      "\n",
      "Classifier used - > KNN Classifier\n",
      "Precision(avg): 0.727 (+/- 0.021)\n",
      "Recall(avg): 0.603 (+/- 0.041)\n",
      "F1-score(avg): 0.641 (+/- 0.033)\n",
      "\n",
      "\n",
      "Classifier used - > Decision Tree Classifier\n",
      "Precision(avg): 0.876 (+/- 0.012)\n",
      "Recall(avg): 0.876 (+/- 0.038)\n",
      "F1-score(avg): 0.875 (+/- 0.025)\n",
      "\n",
      "\n",
      "Classifier used - > Gaussian Naive Bayes\n",
      "Precision(avg): 0.754 (+/- 0.033)\n",
      "Recall(avg): 0.294 (+/- 0.061)\n",
      "F1-score(avg): 0.352 (+/- 0.075)\n",
      "\n",
      "\n",
      "Classifier used - > Linear Support Vector Classifier\n",
      "Precision(avg): 0.835 (+/- 0.051)\n",
      "Recall(avg): 0.844 (+/- 0.018)\n",
      "F1-score(avg): 0.808 (+/- 0.019)\n",
      "\n",
      "\n"
     ]
    }
   ],
   "source": [
    "classfier_scores=[]\n",
    "for i in range(len(models)):\n",
    "    print(\"Classifier used - > {}\".format(classifiers[i]))\n",
    "    classfier_scores.append(getData(models[i], X, y))"
   ]
  },
  {
   "cell_type": "code",
   "execution_count": 15,
   "id": "97cae060",
   "metadata": {},
   "outputs": [],
   "source": [
    "precisions=[]\n",
    "recalls=[]\n",
    "f1s=[]\n",
    "for i in classfier_scores:\n",
    "    precisions.append(i[0])\n",
    "    recalls.append(i[1])\n",
    "    f1s.append(i[2])"
   ]
  },
  {
   "cell_type": "code",
   "execution_count": 19,
   "id": "048c98ee",
   "metadata": {},
   "outputs": [
    {
     "data": {
      "text/html": [
       "<div>\n",
       "<style scoped>\n",
       "    .dataframe tbody tr th:only-of-type {\n",
       "        vertical-align: middle;\n",
       "    }\n",
       "\n",
       "    .dataframe tbody tr th {\n",
       "        vertical-align: top;\n",
       "    }\n",
       "\n",
       "    .dataframe thead th {\n",
       "        text-align: right;\n",
       "    }\n",
       "</style>\n",
       "<table border=\"1\" class=\"dataframe\">\n",
       "  <thead>\n",
       "    <tr style=\"text-align: right;\">\n",
       "      <th></th>\n",
       "      <th>Model</th>\n",
       "      <th>Precision</th>\n",
       "      <th>Recall</th>\n",
       "      <th>F1 Scores</th>\n",
       "    </tr>\n",
       "  </thead>\n",
       "  <tbody>\n",
       "    <tr>\n",
       "      <th>0</th>\n",
       "      <td>Random Forest Classifier</td>\n",
       "      <td>0.882153</td>\n",
       "      <td>0.895212</td>\n",
       "      <td>0.882731</td>\n",
       "    </tr>\n",
       "    <tr>\n",
       "      <th>1</th>\n",
       "      <td>Logistic Regression</td>\n",
       "      <td>0.892818</td>\n",
       "      <td>0.901588</td>\n",
       "      <td>0.889909</td>\n",
       "    </tr>\n",
       "    <tr>\n",
       "      <th>2</th>\n",
       "      <td>KNN Classifier</td>\n",
       "      <td>0.727155</td>\n",
       "      <td>0.603158</td>\n",
       "      <td>0.641137</td>\n",
       "    </tr>\n",
       "    <tr>\n",
       "      <th>3</th>\n",
       "      <td>Decision Tree Classifier</td>\n",
       "      <td>0.876354</td>\n",
       "      <td>0.876047</td>\n",
       "      <td>0.875098</td>\n",
       "    </tr>\n",
       "    <tr>\n",
       "      <th>4</th>\n",
       "      <td>Gaussian Naive Bayes</td>\n",
       "      <td>0.754204</td>\n",
       "      <td>0.293872</td>\n",
       "      <td>0.351638</td>\n",
       "    </tr>\n",
       "    <tr>\n",
       "      <th>5</th>\n",
       "      <td>Linear Support Vector Classifier</td>\n",
       "      <td>0.835201</td>\n",
       "      <td>0.843523</td>\n",
       "      <td>0.807615</td>\n",
       "    </tr>\n",
       "  </tbody>\n",
       "</table>\n",
       "</div>"
      ],
      "text/plain": [
       "                              Model  Precision    Recall  F1 Scores\n",
       "0          Random Forest Classifier   0.882153  0.895212   0.882731\n",
       "1               Logistic Regression   0.892818  0.901588   0.889909\n",
       "2                    KNN Classifier   0.727155  0.603158   0.641137\n",
       "3          Decision Tree Classifier   0.876354  0.876047   0.875098\n",
       "4              Gaussian Naive Bayes   0.754204  0.293872   0.351638\n",
       "5  Linear Support Vector Classifier   0.835201  0.843523   0.807615"
      ]
     },
     "execution_count": 19,
     "metadata": {},
     "output_type": "execute_result"
    }
   ],
   "source": [
    "temp = pd.DataFrame()\n",
    "temp['Model'] = classifiers\n",
    "temp['Precision'] = precisions\n",
    "temp['Recall'] = recalls\n",
    "temp['F1 Scores'] = f1s\n",
    "temp"
   ]
  },
  {
   "cell_type": "code",
   "execution_count": 16,
   "id": "78ad8afe",
   "metadata": {},
   "outputs": [
    {
     "data": {
      "text/plain": [
       "([0, 1, 2, 3, 4, 5],\n",
       " [Text(0, 0, ''),\n",
       "  Text(0, 0, ''),\n",
       "  Text(0, 0, ''),\n",
       "  Text(0, 0, ''),\n",
       "  Text(0, 0, ''),\n",
       "  Text(0, 0, '')])"
      ]
     },
     "execution_count": 16,
     "metadata": {},
     "output_type": "execute_result"
    },
    {
     "data": {
      "image/png": "[encoded data removed]",
      "text/plain": [
       "<Figure size 432x288 with 1 Axes>"
      ]
     },
     "metadata": {
      "needs_background": "light"
     },
     "output_type": "display_data"
    }
   ],
   "source": [
    "plt.title('PRECISION SCORES')\n",
    "plt.bar(classifiers, precisions, color = 'peachpuff', edgecolor='green')\n",
    "plt.xticks(rotation='vertical')"
   ]
  },
  {
   "cell_type": "code",
   "execution_count": 17,
   "id": "241cc9bc",
   "metadata": {},
   "outputs": [
    {
     "data": {
      "text/plain": [
       "([0, 1, 2, 3, 4, 5],\n",
       " [Text(0, 0, ''),\n",
       "  Text(0, 0, ''),\n",
       "  Text(0, 0, ''),\n",
       "  Text(0, 0, ''),\n",
       "  Text(0, 0, ''),\n",
       "  Text(0, 0, '')])"
      ]
     },
     "execution_count": 17,
     "metadata": {},
     "output_type": "execute_result"
    },
    {
     "data": {
      "image/png": "[encoded data removed]",
      "text/plain": [
       "<Figure size 432x288 with 1 Axes>"
      ]
     },
     "metadata": {
      "needs_background": "light"
     },
     "output_type": "display_data"
    }
   ],
   "source": [
    "plt.title('RECALL SCORES')\n",
    "plt.bar(classifiers, recalls, color= 'khaki', edgecolor='green')\n",
    "plt.xticks(rotation='vertical')"
   ]
  },
  {
   "cell_type": "code",
   "execution_count": 18,
   "id": "9b1f980d",
   "metadata": {},
   "outputs": [
    {
     "data": {
      "text/plain": [
       "([0, 1, 2, 3, 4, 5],\n",
       " [Text(0, 0, ''),\n",
       "  Text(0, 0, ''),\n",
       "  Text(0, 0, ''),\n",
       "  Text(0, 0, ''),\n",
       "  Text(0, 0, ''),\n",
       "  Text(0, 0, '')])"
      ]
     },
     "execution_count": 18,
     "metadata": {},
     "output_type": "execute_result"
    },
    {
     "data": {
      "image/png": "[encoded data removed]",
      "text/plain": [
       "<Figure size 432x288 with 1 Axes>"
      ]
     },
     "metadata": {
      "needs_background": "light"
     },
     "output_type": "display_data"
    }
   ],
   "source": [
    "plt.title('F1 SCORES')\n",
    "plt.bar(classifiers, f1s, color = 'moccasin', edgecolor='green')\n",
    "plt.xticks(rotation='vertical')"
   ]
  }
 ],
 "metadata": {
  "kernelspec": {
   "display_name": "Python 3.9 (tensorflow)",
   "language": "python",
   "name": "tensorflow"
  },
  "language_info": {
   "codemirror_mode": {
    "name": "ipython",
    "version": 3
   },
   "file_extension": ".py",
   "mimetype": "text/x-python",
   "name": "python",
   "nbconvert_exporter": "python",
   "pygments_lexer": "ipython3",
   "version": "3.9.7"
  }
 },
 "nbformat": 4,
 "nbformat_minor": 5
}
